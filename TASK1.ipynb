#Task 1 using the Simple linear regression model . Task prediction percentage of marks that students are studied no .of hours.
#The team identifies the following data to study:
#Hours
#marks

#import libraries
import numpy as np
import pandas as pd
import matplotlib.pyplot as plt
import seaborn as sns
import statsmodels.api as sm
#import dataset
data=pd.read_csv('Studentlist.csv')
data.head()     #head is used to show the first 5 values of the dataset
data.isna().sum() # null values check
data.info() # information about dataset
data.describe() # description about data

#extacting X and y values
x=data.iloc[:,:-1].values
y=data.iloc[:,-1].values

#to plot the histogram
data.hist(bins=20,figsize=(20,20),color='blue')
#distplot
sns.distplot(data['Scores'])
#paurplot
sns.pairplot(data)

#import scikit learn and train  and test the x and y
from sklearn.model_selection import train_test_split as tts
x_train,x_test,y_train,y_test=tts(x,y,test_size=0.2,random_state=0)

y_train



#scikit learn model
from sklearn.linear_model import LinearRegression
linear=LinearRegression()
linear.fit(x_train,y_train)

line=linear.coef_*x+linear.intercept_
plt.scatter(x,y,color='red')
plt.plot(x,line)
plt.show()
#prediction 
y_pred=linear.predict(x_test)
y_pred

#comparing actual and predicted values
Y_compare_linear = pd.DataFrame({'Actual': y_test, 'Predicted': y_pred})
Y_compare_linear.head() 
#correalation of data
corr=data.corr()
corr.style.background_gradient(cmap="inferno")


plt.figure(figsize=(15,15))
sns.heatmap(data.corr(),annot=True,cmap='inferno',mask=np.triu(data.corr(),k=1))

#r2 ,mar and mse
from sklearn.metrics import mean_absolute_error,mean_squared_error,r2_score
print(mean_absolute_error(y_test,y_pred))
mse=mean_squared_error(y_test,y_pred)
print(mse)
print(r2_score(y_test,y_pred))
np.sqrt(mse)
#predict if studied 9.25 hours per day
y1_pred=linear.predict([[9.25]])

print('The predicted score if a student for 9.25 hours per day  percentage of the marks would be ',y1_pred)
